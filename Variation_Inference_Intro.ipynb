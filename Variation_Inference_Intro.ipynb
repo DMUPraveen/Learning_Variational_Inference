{
 "cells": [
  {
   "cell_type": "markdown",
   "id": "d772374d-a2cd-4fc9-95f5-3f567ac8c79c",
   "metadata": {},
   "source": [
    "# KL Diveregence, ELBO and free energy"
   ]
  },
  {
   "cell_type": "markdown",
   "id": "48d9add1-8fe8-4451-8e8d-3c75d6c98d02",
   "metadata": {},
   "source": [
    "# Evidence Lower Bound (ELBO $\\mathcal{L}$) or Variational Free Energy\n",
    "As seen in the previous section we need to minimize the KL Divergence.\n",
    "\n",
    "\n",
    "$$\n",
    "\\begin{align}\n",
    "D_{KL}\\left[q(x)\\;||\\;p(x|D)\\right]\n",
    "&= \\sum_x{q(x)\\ln\\left(\\frac{q(x)}{p(x|D)}\\right)}\\\\\n",
    "\\end{align}\n",
    "$$\n",
    "\n",
    "However the problem is we don't have the marginal or the normalized version of $p$ in the first place. We only know $p(x | D)$ (numerator in a bayes theorem case). Thus we cannot use this equation directly.\n",
    "\n",
    "However we can do some algebra.\n",
    "Note: $p(x,D) = p(x\\cap D)$\n",
    "\n",
    "$$\n",
    "\\begin{align}\n",
    "D_{KL}\\left[q(x)\\;||\\;p(x|D)\\right]\n",
    "&= \\sum_x{q(x)\\ln\\left(\\frac{q(x)}{\\frac{p(x, D)}{p(D)}}\\right)}\\\\\\\\\n",
    "&= \\sum_x{q(x)\\ln\\left(\\frac{q(x){p(D)}}{{p(x, D)}}\\right)}\\\\\\\\\n",
    "&= \\sum_x{q(x)\\ln\\left(\\frac{q(x)}{{p(x, D)}}\\right)} +\\sum_x{q(x)ln\\left(p(D)\\right)} \\\\\\\\\n",
    "&= \\mathbb{E}_q\\left[\\ln\\left(\\frac{q(x)}{{p(x, D)}}\\right)\\right] +\\mathbb{E}_q\\left[ln\\left(p(D)\\right)\\right] \\\\\\\\\n",
    "\\end{align}\n",
    "$$\n",
    "\n",
    "Since $p(D)$ is independent of $q$ (It is the probability of the data) therefore it is a constant that does not depend on $q$ thus the expectation of that with respective to q is simply the value itself\n",
    "\n",
    "$$\n",
    "\\begin{align}\n",
    "D_{kl}\\left[q(x)\\;||\\;p(x|d)\\right]\n",
    "&= \\mathbb{E}_q\\left[\\ln\\left(\\frac{q(x)}{{p(x, D)}}\\right)\\right] +ln\\left[p(Y=D)\\right]\\\\\\\\\n",
    "&=-\\mathbb{E}_q\\left[\\ln\\left(\\frac{{p(x, D)}}{q(x)}\\right)\\right] +ln\\left[p(Y=D)\\right]\\\\\\\\\n",
    "\\end{align}\n",
    "$$\n",
    "$$\n",
    "\\begin{align}\n",
    "\\text{KL Divergence} = -\\mathcal{L}+\\text{Evidence}\n",
    "\\end{align}\n",
    "$$\n",
    "\n",
    "Where,\n",
    "$$\n",
    "\\begin{align}\n",
    "\\mathcal{L} &= \\mathbb{E}_q\\left[\\ln\\left(\\frac{{p(x, D)}}{q(x)}\\right)\\right]\\\\\\\\\n",
    "\\text{Evidence} &=ln\\left[p(X=D)\\right]\n",
    "\\end{align}\n",
    "$$\n",
    "From Gibb's Inequality we see that,\n",
    "$$\n",
    "\\begin{align}\n",
    "D_{KL}\\left[q(x)\\;||\\;p(x|d)\\right] &\\geq 0\\\\\n",
    "\\implies -\\mathcal{L} + \\text{Evdience} &\\geq0\\\\\n",
    "\\implies \\mathcal{L}\\leq  \\text{Evidence}\n",
    "\\end{align}\n",
    "$$\n",
    "Thus we see that the quantity $\\mathcal{L}$ is a lower bound for the evidence aka. **ELBO!!**\n",
    "\n",
    "Now let us look at this from the statistical mechanics perspective.\n",
    "\n",
    "We see that since,\n",
    "\n",
    "$$\n",
    "\\begin{align}\n",
    "p(x | D) &= \\frac{p(x\\cap D)}{p(D)}\\\\\\\\\n",
    "&= \\frac{e^{-E(x)}}{Z}\n",
    "\\end{align}\n",
    "$$\n",
    "Thus we see that, $Z = p(D)$ and that energy of state $x$, $E(x) = -ln(p(x\\cap D))$ \n",
    "\n",
    "$$\n",
    "\\begin{align}\n",
    "\\mathcal{L} &= \\mathbb{E}_q\\left[\\ln\\left(\\frac{{p(x, D)}}{q(x)}\\right)\\right]\\\\\\\\\n",
    "&=\\mathbb{E}_q[ln(p(x,D))] -\\mathbb{E}_q[ln(q(x))] \\\\\\\\\n",
    "&=-\\mathbb{E}_q[E(x)] +H(q(x))\n",
    "\\end{align}\n",
    "$$\n",
    "where $H$ is the entropy and the first term is the expected energy with respect to the surrogate \n",
    "Now if we compare this with the, \n",
    "[[Canonical Ensemble#Helmholtz Free Energy Function (F)]]\n",
    "\n",
    "We see that the above expression is very similar to the Free energy term if we take the temperature to be 1. (What happens if we actually have a temperature that is not 1?)\n",
    "If we define \n",
    "$$\n",
    "\\tilde{F} = -\\mathcal{L}\n",
    "$$\n",
    "\n",
    "Where $\\tilde{F}$ is the free energy.  the $F = -\\ln(Z)$ is sometimes known as the true energy thus the KL Divergence is the difference of the two. and therefore \n",
    "Therefore, we can rewrite the expression for the KL Divergence as,\n",
    "\n",
    "\n",
    "$$\n",
    "\\begin{align}\n",
    "\\text{KL Divergence} &=  \\tilde{F} - F\n",
    "\\end{align}\n",
    "$$\n",
    "Thus free energy is greater than the true energy provides an upper bound for the true energy.\n",
    "\n"
   ]
  },
  {
   "cell_type": "code",
   "execution_count": 1,
   "id": "3e437ac9-da11-4c9b-b8c3-3caf82bd35bb",
   "metadata": {},
   "outputs": [],
   "source": [
    "import numpy as np\n",
    "import matplotlib.pyplot as plt\n",
    "from scipy.stats import norm\n",
    "from ipywidgets import interact,widgets\n",
    "from IPython.display import display\n"
   ]
  },
  {
   "cell_type": "code",
   "execution_count": 2,
   "id": "e680ea45-eb63-453e-bb6e-1d78dac5631d",
   "metadata": {},
   "outputs": [],
   "source": [
    "def kl_divergence(q,p):\n",
    "    p = p/np.sum(p)\n",
    "    return np.sum(q*np.log(q/p))\n",
    "\n",
    "def true_energy(p):\n",
    "    return -np.log(np.sum(p))\n",
    "def free_energy(q,p):\n",
    "    return np.sum(q*np.log(q/p))"
   ]
  },
  {
   "cell_type": "code",
   "execution_count": 3,
   "id": "af7d27ae-540c-4e45-84a5-ca56b97c9a9b",
   "metadata": {},
   "outputs": [
    {
     "data": {
      "image/png": "[encoded data removed]",
      "text/plain": [
       "<Figure size 432x288 with 1 Axes>"
      ]
     },
     "metadata": {
      "needs_background": "light"
     },
     "output_type": "display_data"
    }
   ],
   "source": [
    "x = np.linspace(-10,10,100)\n",
    "p = -0.01*(x-1)*(x+1)+1\n",
    "p = p\n",
    "plt.plot(x,p)\n",
    "plt.show()"
   ]
  },
  {
   "cell_type": "code",
   "execution_count": 5,
   "id": "f7289f97-803e-4d9e-ac1a-55f26f5a3634",
   "metadata": {},
   "outputs": [
    {
     "data": {
      "application/vnd.jupyter.widget-view+json": {
       "model_id": "eb89ee61bd774d429910a37a571c8ba8",
       "version_major": 2,
       "version_minor": 0
      },
      "text/plain": [
       "interactive(children=(IntSlider(value=0, description='mu', max=10, min=-10), FloatSlider(value=5.05, descripti…"
      ]
     },
     "metadata": {},
     "output_type": "display_data"
    },
    {
     "data": {
      "application/vnd.jupyter.widget-view+json": {
       "model_id": "bb4e6fcecedb44fd883644258687abea",
       "version_major": 2,
       "version_minor": 0
      },
      "text/plain": [
       "Output()"
      ]
     },
     "metadata": {},
     "output_type": "display_data"
    }
   ],
   "source": [
    "out = widgets.Output()\n",
    "@interact(mu=(-10,10),sigma=(0.1,10))\n",
    "def find_surrogate(mu,sigma):\n",
    "    with out:\n",
    "        \n",
    "        x = np.linspace(-10,10,100)\n",
    "        q = norm.pdf(x,loc=mu,scale=sigma)\n",
    "        q = q/np.sum(q)\n",
    "        plt.plot(x,q)\n",
    "        plt.plot(x,p/np.sum(p))\n",
    "        out.clear_output(wait=True)\n",
    "        plt.show()\n",
    "        print(f\"KL Diveregence is = {kl_divergence(q,p)}\")\n",
    "        print(f\"True Energy is = {true_energy(p)}\")\n",
    "        print(f\"Free Energy is = {free_energy(q,p)}\")\n",
    "        print(f'Free Energy - True Energy = {free_energy(q,p) - true_energy(p)}')\n",
    "        \n",
    "       \n",
    "        \n",
    "a = display(out)\n",
    "        "
   ]
  },
  {
   "cell_type": "code",
   "execution_count": null,
   "id": "d6f791f5-9907-4e5e-ac54-b10e8eb268b4",
   "metadata": {},
   "outputs": [],
   "source": []
  }
 ],
 "metadata": {
  "kernelspec": {
   "display_name": "Python 3 (ipykernel)",
   "language": "python",
   "name": "python3"
  },
  "language_info": {
   "codemirror_mode": {
    "name": "ipython",
    "version": 3
   },
   "file_extension": ".py",
   "mimetype": "text/x-python",
   "name": "python",
   "nbconvert_exporter": "python",
   "pygments_lexer": "ipython3",
   "version": "3.9.6"
  }
 },
 "nbformat": 4,
 "nbformat_minor": 5
}
