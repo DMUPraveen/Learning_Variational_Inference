{
 "cells": [
  {
   "cell_type": "markdown",
   "id": "fc9e869c-1282-4686-9319-8b11aef4f042",
   "metadata": {},
   "source": [
    "# Simple Example\n",
    "\n",
    "Consider the following graphical Model,\n",
    "```mermaid\n",
    "flowchart TD\n",
    "\tS[(sigma)]--->X\n",
    "\tL[(lambda)]--->Z\n",
    "\tZ((Z))--->X[X]\n",
    "```\n",
    "Here we have a latent variable Z and a observed variable X. There are two controlling parameter $\\sigma$ and $\\lambda$ which are just included for completeness the more important relation ship is that of between $Z$ and $X$.\n",
    "```mermaid\n",
    "flowchart TD\n",
    "\tZ((Z))--->X[X]\n",
    "```\n",
    "Where,\n",
    "$$\n",
    "\\begin{align}\n",
    "Z &\\sim Exp(\\lambda)\\\\\n",
    "X &\\sim \\mathcal{N}(\\mu=Z,\\sigma=1)\n",
    "\\end{align}\n",
    "$$\n",
    "and our task is to estimate $Z$ based on the observed $X$ that is we are interested in $p(Z|X)$.\n",
    "$$\n",
    "\\begin{align}\n",
    "p(Z) &= e^{-Z}\\cdot I(Z\\geq0)\\\\\n",
    "p(X|Z) &= \\frac{1}{{\\sqrt{2\\pi}}} e^{-\\frac{\\left({X - Z}\\right)^2}{2}}\n",
    "\\end{align}\n",
    "$$\n",
    "Now,\n",
    "\n",
    "$$\n",
    "\\begin{align}\n",
    "p(X, Z) &= P(X|Z)P(Z)\\\\\n",
    "&=e^{-Z}\\cdot \\frac{1}{{\\sqrt{2\\pi}}} e^{-\\frac{\\left({X - Z}\\right)^2}{2}}I(Z\\geq0)\n",
    "\\end{align}\n",
    "$$\n",
    "This gives us that that the marginal or total probability $p(X)$ is given by.\n",
    "\n",
    "$$\n",
    "\\begin{align}\n",
    "p(X) &= \\int_0^\\infty {p(X,Z)\\; dZ}\\\\\n",
    "&= \\int_0^\\infty {e^{-Z}\\cdot \\frac{1}{{\\sqrt{2\\pi}}} e^{-\\frac{\\left({X - Z}\\right)^2}{2}}\\; dZ}\\\\\n",
    "\\end{align}\n",
    "$$\n"
   ]
  },
  {
   "cell_type": "code",
   "execution_count": 1,
   "id": "0d4d21ce-7b10-4f67-a763-9434c118e657",
   "metadata": {},
   "outputs": [],
   "source": [
    "from scipy.stats import norm,expon\n",
    "import numpy as np\n",
    "import matplotlib.pyplot as plt\n",
    "from ipywidgets import interact,widgets\n",
    "from IPython.display import display\n",
    "import sympy as sp\n",
    "from sympy.parsing.latex import parse_latex"
   ]
  },
  {
   "cell_type": "code",
   "execution_count": 2,
   "id": "6dab6922-a52c-4e56-85a3-173d72c54d23",
   "metadata": {},
   "outputs": [],
   "source": [
    "def prob_Z(Z):\n",
    "    return expon.pdf(Z)\n",
    "def prob_X_given_Z(X,Z):\n",
    "    return norm.pdf(X,loc=Z,scale=1)"
   ]
  },
  {
   "cell_type": "code",
   "execution_count": 3,
   "id": "f80da304-4524-4d63-a729-2759c406142d",
   "metadata": {},
   "outputs": [
    {
     "data": {
      "image/png": "[encoded data removed]",
      "text/plain": [
       "<Figure size 432x288 with 1 Axes>"
      ]
     },
     "metadata": {
      "needs_background": "light"
     },
     "output_type": "display_data"
    }
   ],
   "source": [
    "test_Z_space = np.linspace(-1,10,1000)\n",
    "test_X_space = np.linspace(-10,10,1000)\n",
    "# prob_Z(test_Z_space)\n",
    "plt.ylabel('$p(Z)$')\n",
    "plt.xlabel('Z')\n",
    "plt.plot(test_Z_space,prob_Z(test_Z_space))\n",
    "plt.show()"
   ]
  },
  {
   "cell_type": "code",
   "execution_count": 4,
   "id": "7cd65f44-ce80-4f89-8c10-ca84cb061414",
   "metadata": {},
   "outputs": [
    {
     "data": {
      "application/vnd.jupyter.widget-view+json": {
       "model_id": "97570f1fe5994375b0194660228251da",
       "version_major": 2,
       "version_minor": 0
      },
      "text/plain": [
       "interactive(children=(IntSlider(value=5, description='Z', max=10), Output()), _dom_classes=('widget-interact',…"
      ]
     },
     "metadata": {},
     "output_type": "display_data"
    },
    {
     "data": {
      "application/vnd.jupyter.widget-view+json": {
       "model_id": "a1832fce06dd4f26b0a5bac35b474284",
       "version_major": 2,
       "version_minor": 0
      },
      "text/plain": [
       "Output()"
      ]
     },
     "metadata": {},
     "output_type": "display_data"
    }
   ],
   "source": [
    "out = widgets.Output()\n",
    "@interact(Z=(0,10))\n",
    "def plot_x_given_Z(Z):\n",
    "    prob = prob_X_given_Z(test_X_space,Z)\n",
    "    with out:\n",
    "        plt.ylabel('$p(X|Z)$')\n",
    "        plt.xlabel('X')\n",
    "        out.clear_output(wait=True)\n",
    "        plt.plot(test_X_space,prob)\n",
    "        plt.show()\n",
    "display(out)"
   ]
  },
  {
   "cell_type": "code",
   "execution_count": 5,
   "id": "ed0d91a4-1c14-45fa-b86d-ae00be2d5c55",
   "metadata": {},
   "outputs": [
    {
     "data": {
      "application/vnd.jupyter.widget-view+json": {
       "model_id": "f972e812aae14583bd80f9c1bce178a8",
       "version_major": 2,
       "version_minor": 0
      },
      "text/plain": [
       "interactive(children=(FloatSlider(value=2.0, description='X', max=5.0, min=-1.0), Output()), _dom_classes=('wi…"
      ]
     },
     "metadata": {},
     "output_type": "display_data"
    },
    {
     "data": {
      "application/vnd.jupyter.widget-view+json": {
       "model_id": "0587596b19904c7aaeff17252dcbf65f",
       "version_major": 2,
       "version_minor": 0
      },
      "text/plain": [
       "Output()"
      ]
     },
     "metadata": {},
     "output_type": "display_data"
    }
   ],
   "source": [
    "out = widgets.Output()\n",
    "@interact(X=(-1.0,5.0))\n",
    "def plot_Z_given_X_unnormalized(X):\n",
    "    prob = prob_X_given_Z(X,test_Z_space)*prob_Z(test_Z_space)\n",
    "    with out:\n",
    "        plt.ylabel('$p^*(Z|X)$')\n",
    "        plt.xlabel('Z')\n",
    "        out.clear_output(wait=True)\n",
    "        plt.plot(test_Z_space,prob)\n",
    "        plt.show()\n",
    "display(out)"
   ]
  },
  {
   "cell_type": "markdown",
   "id": "c549079d-da80-4cad-89b2-11c873fc0396",
   "metadata": {},
   "source": [
    "Just for fun let's consider the unnormalized version we can take any value of the form $Cp(X,Z)$, so we will take the following.\n",
    "\n",
    "$$\n",
    "\\begin{align}\n",
    "p(Z|X) &\\propto e^{-Z}\\cdot  e^{-\\frac{\\left({X - Z}\\right)^2}{2}}I(Z\\geq0)\\\\\n",
    " &\\propto e^{-\\frac{\\left({X - Z}\\right)^2}{2}-Z}I(Z\\geq0)\\\\\n",
    " &\\propto e^{-\\frac{1}{2}{\\left(X^2-2XZ+Z^2 - 2Z\\right)}}I(Z\\geq0)\\\\\n",
    " &\\propto e^{-\\frac{1}{2}{\\left(Z - (X-1)\\right)^2}}I(Z\\geq0)\\\\\n",
    "\\end{align}\n",
    "$$\n",
    "\n",
    "In the last step I have completed the square with respect to Z and then gotten rid of the terms that depend only on X (separating out into a sperate exponential) as for a given X it is a constant.\n",
    "\n",
    "This is a normal distribution!! (Apparent in the above illustration). If it weren't for the indicator function we could have easily found the normalizing constant however it's presence causes an issue (Of course we can use the Err Function or any CDF of the normal but this is a case where such precomputed functions exist in general this is not possible.)\n"
   ]
  },
  {
   "cell_type": "markdown",
   "id": "66cd33bb-84d2-4981-8434-384d0f4da5b2",
   "metadata": {},
   "source": [
    "Now as mentioned previously the goal is to find $q(z)$ such that it minimized the ELBO (or variational free energy).\n",
    "\n",
    "$$\n",
    "\\begin{align}\n",
    "\\hat{q}(z) = \\text{argmax}_q(\\mathcal{L})\n",
    "\\end{align}\n",
    "$$\n",
    ">[!Attention]\n",
    ">$\\hat{q}$ reffers to the best estimate of q\n",
    "\n",
    "where,\n",
    "$$\n",
    "\\begin{align}\n",
    "\\mathcal{L} = \\mathbb{E}_q \\left[\\ln\\left(\\frac{p(Z,X=D)}{q(Z)}\\right)\\right]\n",
    "\\end{align}\n",
    "$$\n",
    "This is calculus of variation problem and in general it is difficult to solve (anyway if we could solve it exactly we would get back the original distribution).\n",
    "\n",
    "\n",
    "Therefore we impose a constraint on $q$ in the form a parametric distribution and optimize for the parameters instead.\n",
    "In this case we will try an exponential distribution."
   ]
  },
  {
   "cell_type": "markdown",
   "id": "9a269d13-cfa5-4e33-9ab5-f812e98bd823",
   "metadata": {},
   "source": [
    "Therefore we impose a constraint on $q$ in the form a parametric distribution and optimize for the parameters instead.\n",
    "In this case we will try an exponential distribution.\n",
    "$$\n",
    "\\begin{align}\n",
    "q_{\\theta}(Z) &= Exp(Z;\\lambda=\\theta)\\\\\n",
    "&= {\\theta}e^{-\\theta Z}\\cdot I(Z\\geq0)\n",
    "\\end{align}\n",
    "$$\n",
    "\n"
   ]
  },
  {
   "cell_type": "code",
   "execution_count": 6,
   "id": "9984b1ad-64cc-46e2-8c93-dc730fd61e1c",
   "metadata": {},
   "outputs": [],
   "source": [
    "def surrogate(theta,Z):\n",
    "    return expon.pdf(Z,scale=theta)\n",
    "def kl_divergence(q,p):\n",
    "    p = p/np.sum(p)\n",
    "    q = q/np.sum(q)\n",
    "    \n",
    "    return np.sum(q*np.log(q/p))"
   ]
  },
  {
   "cell_type": "code",
   "execution_count": 7,
   "id": "5b58668f-6020-4455-8170-fca1d8419199",
   "metadata": {},
   "outputs": [
    {
     "data": {
      "application/vnd.jupyter.widget-view+json": {
       "model_id": "bbc3d4722d134f0dbab6db66522e71ca",
       "version_major": 2,
       "version_minor": 0
      },
      "text/plain": [
       "interactive(children=(FloatSlider(value=2.0, description='X', max=5.0, min=-1.0), FloatSlider(value=5.0, descr…"
      ]
     },
     "metadata": {},
     "output_type": "display_data"
    },
    {
     "data": {
      "application/vnd.jupyter.widget-view+json": {
       "model_id": "2e8b30d3ea2849a48ff20c7028f00f9a",
       "version_major": 2,
       "version_minor": 0
      },
      "text/plain": [
       "Output()"
      ]
     },
     "metadata": {},
     "output_type": "display_data"
    }
   ],
   "source": [
    "out = widgets.Output()\n",
    "@interact(X=(-1.0,5.0),theta=(0,10.0))\n",
    "def plot_Z_and_surrogate(X,theta):\n",
    "    prob = prob_X_given_Z(X,test_Z_space)*prob_Z(test_Z_space)\n",
    "    true_prob = prob/np.sum(prob)*1000/11\n",
    "    sur = surrogate(theta,test_Z_space)\n",
    "    with out:\n",
    "        out.clear_output(wait=True)\n",
    "        plt.xlabel('Z')\n",
    "        plt.plot(test_Z_space,sur,label='$q_theta(z)$')\n",
    "        plt.plot(test_Z_space,true_prob,label='$p(Z|X)$')\n",
    "        plt.legend()\n",
    "        plt.show()\n",
    "display(out)"
   ]
  },
  {
   "cell_type": "markdown",
   "id": "d496b7c2-1cf0-4eec-9142-59332e05ef69",
   "metadata": {},
   "source": [
    "Now let us calculate the ELBO using this surrogate distribution.\n",
    "Instead of using the full distribution I will use $p^*$ as it only causes a constant change for a given $X$.\n",
    "Note that for $Z<0$ the value of quantity will be 0 so we will only consider $Z\\geq 0$ \n",
    "$$\n",
    "\\begin{align}\n",
    "\\ln(p^*(Z|X=D)) &= -\\frac{1}{2}(Z - (D-1))^2\\\\\n",
    "\\ln(q_{\\theta}(Z)) &= -\\theta Z + \\ln(\\theta)\\\\\n",
    "\\mathcal{L} &= E_q\\left[\\theta Z-\\ln(\\theta) -\\frac{1}{2}(Z - (D-1))^2\\right]\\\\ \n",
    "&=-ln(\\theta)+\\theta E_q[Z]-\\frac{1}{2}E_q[Z^2]+(D-1)E_q[Z]-\\frac{1}{2}(D-1)^2\\\\\n",
    "&= -ln(\\theta)+\\theta \\frac{1}{\\theta}-\\frac{1}{2}\\left(2\\frac{1}{\\theta^2}\\right)+(D-1)\\frac{1}{\\theta}-\\frac{1}{2}(D-1)^2\\\\\n",
    "&= -ln(\\theta)+1-\\frac{1}{\\theta^2}+(D-1)\\frac{1}{\\theta}-\\frac{1}{2}(D-1)^2\n",
    "\\end{align}\n",
    "$$\n",
    "\n",
    "In order to maximize the ELBO we take its derivative with respect to $\\theta$.\n",
    "\n",
    "$$\n",
    "\\begin{align}\n",
    "\\frac{d\\mathcal{L}}{d\\theta} &=-\\frac{1}{\\theta} - \\frac{D - 1}{\\theta^{2}} + \\frac{2}{\\theta^{3}} \\\\\n",
    "\\text{setting  } \\frac{d\\mathcal{L}}{d\\theta} &= 0\\\\\n",
    "\\implies -\\theta^{2} + \\theta \\left(1 - D\\right) + 2\n",
    "\\end{align}\n",
    "$$\n",
    "$$\n",
    "\\begin{align}\n",
    "\\implies \\theta \\in \\left\\{- \\frac{D}{2} - \\frac{\\sqrt{D^{2} - 2 D + 9}}{2} + \\frac{1}{2},- \\frac{D}{2} + \\frac{\\sqrt{D^{2} - 2 D + 9}}{2} + \\frac{1}{2}\\right\\}\n",
    "\\end{align}\n",
    "$$\n",
    "This can be written more neatly as,\n",
    "\n",
    "$$\n",
    "\\begin{align}\n",
    "\\implies \\theta \\in \\left\\{-\\frac{D-1}{2}-\\sqrt{\\frac{(D-1)^2}{4}+2}\\;,\\;\n",
    "-\\frac{D-1}{2}+\\sqrt{\\frac{(D-1)^2}{4}+2},\\right\\}\n",
    "\\end{align}\n",
    "$$\n",
    "\n",
    "If we name these two possibilities $\\theta_1,\\theta_2$ in that order, $\\theta_1$ is always negative while $\\theta_2$ is always positive. \n",
    "\n",
    "For an exponential distribution $\\theta$ must be positive and it can be shown that it gives a maximum for the ELBO."
   ]
  },
  {
   "cell_type": "code",
   "execution_count": 8,
   "id": "4a448cf1-ef99-448b-8128-5b39132239b6",
   "metadata": {},
   "outputs": [
    {
     "data": {
      "text/plain": [
       "1.4142135623730951"
      ]
     },
     "execution_count": 8,
     "metadata": {},
     "output_type": "execute_result"
    }
   ],
   "source": [
    "best_theta = lambda D : -(D-1)/2+np.sqrt((D-1)**2/4+2)\n",
    "best_theta(1)"
   ]
  },
  {
   "cell_type": "code",
   "execution_count": 9,
   "id": "10cd38ff-8fbd-45a9-897a-1688366ba71d",
   "metadata": {},
   "outputs": [
    {
     "data": {
      "application/vnd.jupyter.widget-view+json": {
       "model_id": "ab443402c682498897ff7d0a74a07b77",
       "version_major": 2,
       "version_minor": 0
      },
      "text/plain": [
       "interactive(children=(FloatSlider(value=2.0, description='X', max=5.0, min=-1.0), Output()), _dom_classes=('wi…"
      ]
     },
     "metadata": {},
     "output_type": "display_data"
    },
    {
     "data": {
      "application/vnd.jupyter.widget-view+json": {
       "model_id": "ca5ea96a213040a7ab48155847914148",
       "version_major": 2,
       "version_minor": 0
      },
      "text/plain": [
       "Output()"
      ]
     },
     "metadata": {},
     "output_type": "display_data"
    }
   ],
   "source": [
    "out = widgets.Output()\n",
    "@interact(X=(-1.0,5.0))\n",
    "def plot_Z_and_best_surrogate(X):\n",
    "    prob = prob_X_given_Z(X,test_Z_space)*prob_Z(test_Z_space)\n",
    "    theta = best_theta(X)\n",
    "    true_prob = prob/np.sum(prob)*1000/11\n",
    "    sur = surrogate(theta,test_Z_space)\n",
    "    with out:\n",
    "        out.clear_output(wait=True)\n",
    "        plt.xlabel('Z')\n",
    "        plt.plot(test_Z_space,sur,label='$q_theta(z)$')\n",
    "        plt.plot(test_Z_space,true_prob,label='$p(Z|X)$')\n",
    "        plt.legend()\n",
    "        plt.show()\n",
    "        print(f\"best theta: {theta}\")\n",
    "\n",
    "display(out)"
   ]
  },
  {
   "cell_type": "markdown",
   "id": "9a39fe04-9a51-41c8-bb74-e6925f6fdd81",
   "metadata": {},
   "source": [
    "While it was possible to obtain a closed form expression for $\\theta$ it is not possible in general and therefore, stochastic methods are needed for problems of the general case."
   ]
  }
 ],
 "metadata": {
  "kernelspec": {
   "display_name": "Python 3 (ipykernel)",
   "language": "python",
   "name": "python3"
  },
  "language_info": {
   "codemirror_mode": {
    "name": "ipython",
    "version": 3
   },
   "file_extension": ".py",
   "mimetype": "text/x-python",
   "name": "python",
   "nbconvert_exporter": "python",
   "pygments_lexer": "ipython3",
   "version": "3.9.6"
  }
 },
 "nbformat": 4,
 "nbformat_minor": 5
}
