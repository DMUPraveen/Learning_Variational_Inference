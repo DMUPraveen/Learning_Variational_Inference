{
 "cells": [
  {
   "cell_type": "markdown",
   "id": "fc9e869c-1282-4686-9319-8b11aef4f042",
   "metadata": {},
   "source": [
    "# Simple Example\n",
    "\n",
    "Consider the following graphical Model,\n",
    "```mermaid\n",
    "flowchart TD\n",
    "\tS[(sigma)]--->X\n",
    "\tL[(lambda)]--->Z\n",
    "\tZ((Z))--->X[X]\n",
    "```\n",
    "Here we have a latent variable Z and a observed variable X. There are two controlling parameter $\\sigma$ and $\\lambda$ which are just included for completeness the more important relation ship is that of between $Z$ and $X$.\n",
    "```mermaid\n",
    "flowchart TD\n",
    "\tZ((Z))--->X[X]\n",
    "```\n",
    "Where,\n",
    "$$\n",
    "\\begin{align}\n",
    "Z &\\sim Exp(\\lambda)\\\\\n",
    "X &\\sim \\mathcal{N}(\\mu=Z,\\sigma=1)\n",
    "\\end{align}\n",
    "$$\n",
    "and our task is to estimate $Z$ based on the observed $X$ that is we are interested in $p(Z|X)$.\n",
    "$$\n",
    "\\begin{align}\n",
    "p(Z) &= e^{-Z}\\cdot I(Z\\geq0)\\\\\n",
    "p(X|Z) &= \\frac{1}{{\\sqrt{2\\pi}}} e^{-\\frac{\\left({X - Z}\\right)^2}{2}}\n",
    "\\end{align}\n",
    "$$\n",
    "Now,\n",
    "\n",
    "$$\n",
    "\\begin{align}\n",
    "p(X, Z) &= P(X|Z)P(Z)\\\\\n",
    "&=e^{-Z}\\cdot \\frac{1}{{\\sqrt{2\\pi}}} e^{-\\frac{\\left({X - Z}\\right)^2}{2}}I(Z\\geq0)\n",
    "\\end{align}\n",
    "$$\n",
    "This gives us that that the marginal or total probability $p(X)$ is given by.\n",
    "\n",
    "$$\n",
    "\\begin{align}\n",
    "p(X) &= \\int_0^\\infty {p(X,Z)\\; dZ}\\\\\n",
    "&= \\int_0^\\infty {e^{-Z}\\cdot \\frac{1}{{\\sqrt{2\\pi}}} e^{-\\frac{\\left({X - Z}\\right)^2}{2}}\\; dZ}\\\\\n",
    "\\end{align}\n",
    "$$\n"
   ]
  },
  {
   "cell_type": "code",
   "execution_count": 34,
   "id": "0d4d21ce-7b10-4f67-a763-9434c118e657",
   "metadata": {},
   "outputs": [],
   "source": [
    "from scipy.stats import norm,expon\n",
    "import numpy as np\n",
    "import matplotlib.pyplot as plt\n",
    "from ipywidgets import interact,widgets\n",
    "from IPython.display import display"
   ]
  },
  {
   "cell_type": "code",
   "execution_count": 35,
   "id": "6dab6922-a52c-4e56-85a3-173d72c54d23",
   "metadata": {},
   "outputs": [],
   "source": [
    "def prob_Z(Z):\n",
    "    return expon.pdf(Z)\n",
    "def prob_X_given_Z(X,Z):\n",
    "    return norm.pdf(X,loc=Z,scale=1)"
   ]
  },
  {
   "cell_type": "code",
   "execution_count": 36,
   "id": "f80da304-4524-4d63-a729-2759c406142d",
   "metadata": {},
   "outputs": [
    {
     "data": {
      "image/png": "[encoded data removed]",
      "text/plain": [
       "<Figure size 432x288 with 1 Axes>"
      ]
     },
     "metadata": {
      "needs_background": "light"
     },
     "output_type": "display_data"
    }
   ],
   "source": [
    "test_Z_space = np.linspace(-1,10,1000)\n",
    "test_X_space = np.linspace(-10,10,1000)\n",
    "# prob_Z(test_Z_space)\n",
    "plt.ylabel('$p(Z)$')\n",
    "plt.xlabel('Z')\n",
    "plt.plot(test_Z_space,prob_Z(test_Z_space))\n",
    "plt.show()"
   ]
  },
  {
   "cell_type": "code",
   "execution_count": 37,
   "id": "7cd65f44-ce80-4f89-8c10-ca84cb061414",
   "metadata": {},
   "outputs": [
    {
     "data": {
      "application/vnd.jupyter.widget-view+json": {
       "model_id": "9ff6ee8f33024b51b250922061bdca19",
       "version_major": 2,
       "version_minor": 0
      },
      "text/plain": [
       "interactive(children=(IntSlider(value=5, description='Z', max=10), Output()), _dom_classes=('widget-interact',…"
      ]
     },
     "metadata": {},
     "output_type": "display_data"
    },
    {
     "data": {
      "application/vnd.jupyter.widget-view+json": {
       "model_id": "aa4b2f7629e541b1a61aa76649729c3f",
       "version_major": 2,
       "version_minor": 0
      },
      "text/plain": [
       "Output()"
      ]
     },
     "metadata": {},
     "output_type": "display_data"
    }
   ],
   "source": [
    "out = widgets.Output()\n",
    "@interact(Z=(0,10))\n",
    "def plot_x_given_Z(Z):\n",
    "    prob = prob_X_given_Z(test_X_space,Z)\n",
    "    with out:\n",
    "        plt.ylabel('$p(X|Z)$')\n",
    "        plt.xlabel('X')\n",
    "        out.clear_output(wait=True)\n",
    "        plt.plot(test_X_space,prob)\n",
    "        plt.show()\n",
    "display(out)"
   ]
  },
  {
   "cell_type": "code",
   "execution_count": 38,
   "id": "ed0d91a4-1c14-45fa-b86d-ae00be2d5c55",
   "metadata": {},
   "outputs": [
    {
     "data": {
      "application/vnd.jupyter.widget-view+json": {
       "model_id": "d1cb9f0e299640f9a744a441caa60f31",
       "version_major": 2,
       "version_minor": 0
      },
      "text/plain": [
       "interactive(children=(IntSlider(value=2, description='X', max=5, min=-1), Output()), _dom_classes=('widget-int…"
      ]
     },
     "metadata": {},
     "output_type": "display_data"
    },
    {
     "data": {
      "application/vnd.jupyter.widget-view+json": {
       "model_id": "2f39ed4067bd461796128a4ef2ca795d",
       "version_major": 2,
       "version_minor": 0
      },
      "text/plain": [
       "Output()"
      ]
     },
     "metadata": {},
     "output_type": "display_data"
    }
   ],
   "source": [
    "out = widgets.Output()\n",
    "@interact(X=(-1,5))\n",
    "def plot_Z_given_X_unnormalized(X):\n",
    "    prob = prob_X_given_Z(X,test_Z_space)*prob_Z(test_Z_space)\n",
    "    with out:\n",
    "        plt.ylabel('$p^*(Z|X)$')\n",
    "        plt.xlabel('Z')\n",
    "        out.clear_output(wait=True)\n",
    "        plt.plot(test_X_space,prob)\n",
    "        plt.show()\n",
    "display(out)"
   ]
  },
  {
   "cell_type": "code",
   "execution_count": null,
   "id": "14ee2b37-93d9-4a6a-8161-f21bc7f3e42d",
   "metadata": {},
   "outputs": [],
   "source": []
  }
 ],
 "metadata": {
  "kernelspec": {
   "display_name": "Python 3 (ipykernel)",
   "language": "python",
   "name": "python3"
  },
  "language_info": {
   "codemirror_mode": {
    "name": "ipython",
    "version": 3
   },
   "file_extension": ".py",
   "mimetype": "text/x-python",
   "name": "python",
   "nbconvert_exporter": "python",
   "pygments_lexer": "ipython3",
   "version": "3.9.6"
  }
 },
 "nbformat": 4,
 "nbformat_minor": 5
}
